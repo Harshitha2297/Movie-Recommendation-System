{
 "cells": [
  {
   "cell_type": "markdown",
   "id": "ab71d277",
   "metadata": {},
   "source": [
    "# SVD - Collaborative filtering"
   ]
  },
  {
   "cell_type": "code",
   "execution_count": 43,
   "id": "c988c83f",
   "metadata": {},
   "outputs": [],
   "source": [
    "from IPython.core.interactiveshell import InteractiveShell\n",
    "InteractiveShell.ast_node_interactivity = \"all\""
   ]
  },
  {
   "cell_type": "code",
   "execution_count": 44,
   "id": "1ddf6b97",
   "metadata": {},
   "outputs": [],
   "source": [
    "import pandas as pd\n",
    "import numpy as np"
   ]
  },
  {
   "cell_type": "code",
   "execution_count": 45,
   "id": "7babf0c7",
   "metadata": {},
   "outputs": [],
   "source": [
    "#Load the data\n",
    "ratings = pd.read_csv(\"C:/Users/messi/OneDrive/Documents/ratings_sub.csv\",encoding = \"ISO-8859-1\")"
   ]
  },
  {
   "cell_type": "code",
   "execution_count": 46,
   "id": "e83fd975",
   "metadata": {},
   "outputs": [
    {
     "data": {
      "text/plain": [
       "(487469, 7)"
      ]
     },
     "execution_count": 46,
     "metadata": {},
     "output_type": "execute_result"
    }
   ],
   "source": [
    "#Number of rows and columns\n",
    "ratings.shape"
   ]
  },
  {
   "cell_type": "code",
   "execution_count": 48,
   "id": "c6bc1812",
   "metadata": {},
   "outputs": [],
   "source": [
    "ratings.userId=ratings.userId.astype(str)\n",
    "ratings.movieId=ratings.movieId.astype(str)"
   ]
  },
  {
   "cell_type": "code",
   "execution_count": 49,
   "id": "66a91f08",
   "metadata": {},
   "outputs": [
    {
     "data": {
      "text/plain": [
       "Index(['userId', 'movieId', 'rating', 'timestamp', 'title', 'genres', 'year'], dtype='object')"
      ]
     },
     "execution_count": 49,
     "metadata": {},
     "output_type": "execute_result"
    }
   ],
   "source": [
    "#Column names\n",
    "ratings.columns"
   ]
  },
  {
   "cell_type": "code",
   "execution_count": 50,
   "id": "ed6fddfd",
   "metadata": {},
   "outputs": [
    {
     "name": "stdout",
     "output_type": "stream",
     "text": [
      "total unique users -  2827\n"
     ]
    }
   ],
   "source": [
    "# Total unique users \n",
    "print(\"total unique users - \",len(ratings[\"userId\"].unique()))"
   ]
  },
  {
   "cell_type": "code",
   "execution_count": 51,
   "id": "3c6fd5e0",
   "metadata": {},
   "outputs": [
    {
     "data": {
      "text/plain": [
       "3218     200\n",
       "75694    200\n",
       "61382    200\n",
       "47594    200\n",
       "29990    200\n",
       "Name: userId, dtype: int64"
      ]
     },
     "execution_count": 51,
     "metadata": {},
     "output_type": "execute_result"
    }
   ],
   "source": [
    "# Users with max no of movies watches\n",
    "ratings[\"userId\"].value_counts().head()"
   ]
  },
  {
   "cell_type": "code",
   "execution_count": 52,
   "id": "233eff85",
   "metadata": {},
   "outputs": [],
   "source": [
    "from surprise import Dataset,Reader\n",
    "reader = Reader(rating_scale=(1, 5))"
   ]
  },
  {
   "cell_type": "code",
   "execution_count": 53,
   "id": "3e3ed2e3",
   "metadata": {},
   "outputs": [],
   "source": [
    "data = Dataset.load_from_df(ratings[['userId', 'title', 'rating']], reader)"
   ]
  },
  {
   "cell_type": "code",
   "execution_count": 54,
   "id": "efc6335d",
   "metadata": {},
   "outputs": [],
   "source": [
    "# Split data to train and test\n",
    "from surprise.model_selection import train_test_split\n",
    "trainset, testset = train_test_split(data, test_size=.25,random_state=123)"
   ]
  },
  {
   "cell_type": "markdown",
   "id": "5d0b28d9",
   "metadata": {},
   "source": [
    "# KNN"
   ]
  },
  {
   "cell_type": "code",
   "execution_count": 56,
   "id": "6946365f",
   "metadata": {},
   "outputs": [],
   "source": [
    "from surprise import KNNWithMeans\n",
    "from surprise import accuracy"
   ]
  },
  {
   "cell_type": "code",
   "execution_count": 57,
   "id": "03e139e5",
   "metadata": {},
   "outputs": [
    {
     "name": "stdout",
     "output_type": "stream",
     "text": [
      "Computing the pearson similarity matrix...\n",
      "Done computing similarity matrix.\n"
     ]
    },
    {
     "data": {
      "text/plain": [
       "<surprise.prediction_algorithms.knns.KNNWithMeans at 0x1ca3b67f610>"
      ]
     },
     "execution_count": 57,
     "metadata": {},
     "output_type": "execute_result"
    }
   ],
   "source": [
    "algo = KNNWithMeans(k=50, sim_options={'name': 'pearson', 'user_based': False})\n",
    "algo.fit(trainset)"
   ]
  },
  {
   "cell_type": "code",
   "execution_count": 58,
   "id": "e3f722f3",
   "metadata": {},
   "outputs": [
    {
     "data": {
      "text/plain": [
       "121868"
      ]
     },
     "execution_count": 58,
     "metadata": {},
     "output_type": "execute_result"
    }
   ],
   "source": [
    "len(testset)"
   ]
  },
  {
   "cell_type": "code",
   "execution_count": 59,
   "id": "9eda9d76",
   "metadata": {},
   "outputs": [
    {
     "data": {
      "text/plain": [
       "[('107317', 'Signs (2002)', 2.5),\n",
       " ('103061', 'Inconvenient Truth, An (2006)', 4.5),\n",
       " ('84115', 'Battlefield Earth (2000)', 2.5),\n",
       " ('130756',\n",
       "  'Fast and the Furious: Tokyo Drift, The (Fast and the Furious 3, The) (2006)',\n",
       "  2.0),\n",
       " ('24878', 'Drive (2011)', 4.5)]"
      ]
     },
     "execution_count": 59,
     "metadata": {},
     "output_type": "execute_result"
    }
   ],
   "source": [
    "testset[0:5]"
   ]
  },
  {
   "cell_type": "code",
   "execution_count": 60,
   "id": "e586b9e6",
   "metadata": {},
   "outputs": [
    {
     "name": "stdout",
     "output_type": "stream",
     "text": [
      "RMSE: 0.8114\n"
     ]
    },
    {
     "data": {
      "text/plain": [
       "0.8113764816533418"
      ]
     },
     "execution_count": 60,
     "metadata": {},
     "output_type": "execute_result"
    }
   ],
   "source": [
    "# Evalute on test set\n",
    "test_pred = algo.test(testset)\n",
    "\n",
    "# compute RMSE\n",
    "accuracy.rmse(test_pred)"
   ]
  },
  {
   "cell_type": "code",
   "execution_count": 61,
   "id": "82c8e22c",
   "metadata": {},
   "outputs": [
    {
     "data": {
      "text/plain": [
       "Prediction(uid='7051', iid='Black Hawk Down (2001)', r_ui=5.0, est=3.8665487014970545, details={'actual_k': 50, 'was_impossible': False})"
      ]
     },
     "execution_count": 61,
     "metadata": {},
     "output_type": "execute_result"
    }
   ],
   "source": [
    "# View a particular prediction\n",
    "test_pred[12]"
   ]
  },
  {
   "cell_type": "code",
   "execution_count": 62,
   "id": "964ef5f7",
   "metadata": {},
   "outputs": [
    {
     "data": {
      "text/plain": [
       "50"
      ]
     },
     "execution_count": 62,
     "metadata": {},
     "output_type": "execute_result"
    }
   ],
   "source": [
    "test_pred[12].details[\"actual_k\"]"
   ]
  },
  {
   "cell_type": "code",
   "execution_count": 63,
   "id": "d85cf765",
   "metadata": {},
   "outputs": [],
   "source": [
    "# convert results to dataframe\n",
    "test_pred_df = pd.DataFrame(test_pred)\n",
    "test_pred_df[\"was_impossible\"] = [x[\"was_impossible\"] for x in test_pred_df[\"details\"]]"
   ]
  },
  {
   "cell_type": "code",
   "execution_count": 64,
   "id": "7771ace6",
   "metadata": {},
   "outputs": [
    {
     "data": {
      "text/html": [
       "<div>\n",
       "<style scoped>\n",
       "    .dataframe tbody tr th:only-of-type {\n",
       "        vertical-align: middle;\n",
       "    }\n",
       "\n",
       "    .dataframe tbody tr th {\n",
       "        vertical-align: top;\n",
       "    }\n",
       "\n",
       "    .dataframe thead th {\n",
       "        text-align: right;\n",
       "    }\n",
       "</style>\n",
       "<table border=\"1\" class=\"dataframe\">\n",
       "  <thead>\n",
       "    <tr style=\"text-align: right;\">\n",
       "      <th></th>\n",
       "      <th>uid</th>\n",
       "      <th>iid</th>\n",
       "      <th>r_ui</th>\n",
       "      <th>est</th>\n",
       "      <th>details</th>\n",
       "      <th>was_impossible</th>\n",
       "    </tr>\n",
       "  </thead>\n",
       "  <tbody>\n",
       "    <tr>\n",
       "      <th>159</th>\n",
       "      <td>36730</td>\n",
       "      <td>Grill Point (Halbe Treppe) (2002)</td>\n",
       "      <td>3.5</td>\n",
       "      <td>3.511396</td>\n",
       "      <td>{'was_impossible': True, 'reason': 'User and/o...</td>\n",
       "      <td>True</td>\n",
       "    </tr>\n",
       "    <tr>\n",
       "      <th>604</th>\n",
       "      <td>131040</td>\n",
       "      <td>Escape from Planet Earth (2013)</td>\n",
       "      <td>2.0</td>\n",
       "      <td>3.511396</td>\n",
       "      <td>{'was_impossible': True, 'reason': 'User and/o...</td>\n",
       "      <td>True</td>\n",
       "    </tr>\n",
       "    <tr>\n",
       "      <th>827</th>\n",
       "      <td>116349</td>\n",
       "      <td>No Good Deed (2014)</td>\n",
       "      <td>3.5</td>\n",
       "      <td>3.511396</td>\n",
       "      <td>{'was_impossible': True, 'reason': 'User and/o...</td>\n",
       "      <td>True</td>\n",
       "    </tr>\n",
       "    <tr>\n",
       "      <th>1865</th>\n",
       "      <td>124431</td>\n",
       "      <td>Films to Keep You Awake: The Christmas Tale (P...</td>\n",
       "      <td>0.5</td>\n",
       "      <td>3.511396</td>\n",
       "      <td>{'was_impossible': True, 'reason': 'User and/o...</td>\n",
       "      <td>True</td>\n",
       "    </tr>\n",
       "    <tr>\n",
       "      <th>2020</th>\n",
       "      <td>21811</td>\n",
       "      <td>Insanitarium (2008)</td>\n",
       "      <td>3.5</td>\n",
       "      <td>3.511396</td>\n",
       "      <td>{'was_impossible': True, 'reason': 'User and/o...</td>\n",
       "      <td>True</td>\n",
       "    </tr>\n",
       "  </tbody>\n",
       "</table>\n",
       "</div>"
      ],
      "text/plain": [
       "         uid                                                iid  r_ui  \\\n",
       "159    36730                  Grill Point (Halbe Treppe) (2002)   3.5   \n",
       "604   131040                    Escape from Planet Earth (2013)   2.0   \n",
       "827   116349                                No Good Deed (2014)   3.5   \n",
       "1865  124431  Films to Keep You Awake: The Christmas Tale (P...   0.5   \n",
       "2020   21811                                Insanitarium (2008)   3.5   \n",
       "\n",
       "           est                                            details  \\\n",
       "159   3.511396  {'was_impossible': True, 'reason': 'User and/o...   \n",
       "604   3.511396  {'was_impossible': True, 'reason': 'User and/o...   \n",
       "827   3.511396  {'was_impossible': True, 'reason': 'User and/o...   \n",
       "1865  3.511396  {'was_impossible': True, 'reason': 'User and/o...   \n",
       "2020  3.511396  {'was_impossible': True, 'reason': 'User and/o...   \n",
       "\n",
       "      was_impossible  \n",
       "159             True  \n",
       "604             True  \n",
       "827             True  \n",
       "1865            True  \n",
       "2020            True  "
      ]
     },
     "execution_count": 64,
     "metadata": {},
     "output_type": "execute_result"
    }
   ],
   "source": [
    "test_pred_df.loc[test_pred_df.was_impossible].head(5)"
   ]
  },
  {
   "cell_type": "code",
   "execution_count": 85,
   "id": "1c4e6ad0",
   "metadata": {},
   "outputs": [
    {
     "data": {
      "text/plain": [
       "Prediction(uid='user_405', iid='Wrong Trousers, The (1993)', r_ui=None, est=3.511396303620614, details={'was_impossible': True, 'reason': 'User and/or item is unknown.'})"
      ]
     },
     "execution_count": 85,
     "metadata": {},
     "output_type": "execute_result"
    }
   ],
   "source": [
    "# Mkae prediction for a single user\n",
    "algo.predict(uid=\"user_405\",iid=\"Wrong Trousers, The (1993)\")"
   ]
  },
  {
   "cell_type": "markdown",
   "id": "75e3b829",
   "metadata": {},
   "source": [
    "# Generating top n recommendations"
   ]
  },
  {
   "cell_type": "code",
   "execution_count": 86,
   "id": "bdd3d843",
   "metadata": {},
   "outputs": [],
   "source": [
    "testset_new = trainset.build_anti_testset()"
   ]
  },
  {
   "cell_type": "code",
   "execution_count": 87,
   "id": "dc280f34",
   "metadata": {},
   "outputs": [
    {
     "data": {
      "text/plain": [
       "17308818"
      ]
     },
     "execution_count": 87,
     "metadata": {},
     "output_type": "execute_result"
    }
   ],
   "source": [
    "len(testset_new)"
   ]
  },
  {
   "cell_type": "code",
   "execution_count": 88,
   "id": "47739133",
   "metadata": {},
   "outputs": [
    {
     "data": {
      "text/plain": [
       "[('248', 'Disturbia (2007)', 3.511396303620614),\n",
       " ('248', 'Hamlet 2 (2008)', 3.511396303620614),\n",
       " ('248', 'Unbreakable (2000)', 3.511396303620614),\n",
       " ('248', 'Finding Neverland (2004)', 3.511396303620614),\n",
       " ('248', 'X2: X-Men United (2003)', 3.511396303620614)]"
      ]
     },
     "execution_count": 88,
     "metadata": {},
     "output_type": "execute_result"
    }
   ],
   "source": [
    "testset_new[0:5]"
   ]
  },
  {
   "cell_type": "code",
   "execution_count": 89,
   "id": "f39461c3",
   "metadata": {},
   "outputs": [],
   "source": [
    "predictions = algo.test(testset_new[0:10000])"
   ]
  },
  {
   "cell_type": "code",
   "execution_count": 90,
   "id": "277953e7",
   "metadata": {},
   "outputs": [],
   "source": [
    "predictions_df = pd.DataFrame([[x.uid,x.est] for x in predictions])"
   ]
  },
  {
   "cell_type": "code",
   "execution_count": 91,
   "id": "967731f2",
   "metadata": {},
   "outputs": [],
   "source": [
    "predictions_df.columns = [\"userId\",\"est_rating\"]\n",
    "predictions_df.sort_values(by = [\"userId\", \"est_rating\"],ascending=False,inplace=True)"
   ]
  },
  {
   "cell_type": "code",
   "execution_count": 92,
   "id": "74601885",
   "metadata": {},
   "outputs": [
    {
     "data": {
      "text/html": [
       "<div>\n",
       "<style scoped>\n",
       "    .dataframe tbody tr th:only-of-type {\n",
       "        vertical-align: middle;\n",
       "    }\n",
       "\n",
       "    .dataframe tbody tr th {\n",
       "        vertical-align: top;\n",
       "    }\n",
       "\n",
       "    .dataframe thead th {\n",
       "        text-align: right;\n",
       "    }\n",
       "</style>\n",
       "<table border=\"1\" class=\"dataframe\">\n",
       "  <thead>\n",
       "    <tr style=\"text-align: right;\">\n",
       "      <th></th>\n",
       "      <th>userId</th>\n",
       "      <th>est_rating</th>\n",
       "    </tr>\n",
       "  </thead>\n",
       "  <tbody>\n",
       "    <tr>\n",
       "      <th>8040</th>\n",
       "      <td>45844</td>\n",
       "      <td>5.0</td>\n",
       "    </tr>\n",
       "    <tr>\n",
       "      <th>9039</th>\n",
       "      <td>45844</td>\n",
       "      <td>5.0</td>\n",
       "    </tr>\n",
       "    <tr>\n",
       "      <th>9147</th>\n",
       "      <td>45844</td>\n",
       "      <td>5.0</td>\n",
       "    </tr>\n",
       "    <tr>\n",
       "      <th>9413</th>\n",
       "      <td>45844</td>\n",
       "      <td>5.0</td>\n",
       "    </tr>\n",
       "    <tr>\n",
       "      <th>9497</th>\n",
       "      <td>45844</td>\n",
       "      <td>5.0</td>\n",
       "    </tr>\n",
       "  </tbody>\n",
       "</table>\n",
       "</div>"
      ],
      "text/plain": [
       "     userId  est_rating\n",
       "8040  45844         5.0\n",
       "9039  45844         5.0\n",
       "9147  45844         5.0\n",
       "9413  45844         5.0\n",
       "9497  45844         5.0"
      ]
     },
     "execution_count": 92,
     "metadata": {},
     "output_type": "execute_result"
    }
   ],
   "source": [
    "predictions_df.head()"
   ]
  },
  {
   "cell_type": "code",
   "execution_count": 93,
   "id": "5fc58434",
   "metadata": {},
   "outputs": [],
   "source": [
    "top_10_recos = predictions_df.groupby(\"userId\").head(10).reset_index(drop=True)"
   ]
  },
  {
   "cell_type": "code",
   "execution_count": 94,
   "id": "b8a74ae7",
   "metadata": {},
   "outputs": [
    {
     "data": {
      "text/html": [
       "<div>\n",
       "<style scoped>\n",
       "    .dataframe tbody tr th:only-of-type {\n",
       "        vertical-align: middle;\n",
       "    }\n",
       "\n",
       "    .dataframe tbody tr th {\n",
       "        vertical-align: top;\n",
       "    }\n",
       "\n",
       "    .dataframe thead th {\n",
       "        text-align: right;\n",
       "    }\n",
       "</style>\n",
       "<table border=\"1\" class=\"dataframe\">\n",
       "  <thead>\n",
       "    <tr style=\"text-align: right;\">\n",
       "      <th></th>\n",
       "      <th>userId</th>\n",
       "      <th>est_rating</th>\n",
       "    </tr>\n",
       "  </thead>\n",
       "  <tbody>\n",
       "    <tr>\n",
       "      <th>0</th>\n",
       "      <td>45844</td>\n",
       "      <td>5.0</td>\n",
       "    </tr>\n",
       "    <tr>\n",
       "      <th>1</th>\n",
       "      <td>45844</td>\n",
       "      <td>5.0</td>\n",
       "    </tr>\n",
       "    <tr>\n",
       "      <th>2</th>\n",
       "      <td>45844</td>\n",
       "      <td>5.0</td>\n",
       "    </tr>\n",
       "    <tr>\n",
       "      <th>3</th>\n",
       "      <td>45844</td>\n",
       "      <td>5.0</td>\n",
       "    </tr>\n",
       "    <tr>\n",
       "      <th>4</th>\n",
       "      <td>45844</td>\n",
       "      <td>5.0</td>\n",
       "    </tr>\n",
       "    <tr>\n",
       "      <th>5</th>\n",
       "      <td>45844</td>\n",
       "      <td>5.0</td>\n",
       "    </tr>\n",
       "    <tr>\n",
       "      <th>6</th>\n",
       "      <td>45844</td>\n",
       "      <td>5.0</td>\n",
       "    </tr>\n",
       "    <tr>\n",
       "      <th>7</th>\n",
       "      <td>45844</td>\n",
       "      <td>5.0</td>\n",
       "    </tr>\n",
       "    <tr>\n",
       "      <th>8</th>\n",
       "      <td>45844</td>\n",
       "      <td>5.0</td>\n",
       "    </tr>\n",
       "    <tr>\n",
       "      <th>9</th>\n",
       "      <td>45844</td>\n",
       "      <td>5.0</td>\n",
       "    </tr>\n",
       "    <tr>\n",
       "      <th>10</th>\n",
       "      <td>248</td>\n",
       "      <td>5.0</td>\n",
       "    </tr>\n",
       "    <tr>\n",
       "      <th>11</th>\n",
       "      <td>248</td>\n",
       "      <td>5.0</td>\n",
       "    </tr>\n",
       "    <tr>\n",
       "      <th>12</th>\n",
       "      <td>248</td>\n",
       "      <td>5.0</td>\n",
       "    </tr>\n",
       "    <tr>\n",
       "      <th>13</th>\n",
       "      <td>248</td>\n",
       "      <td>5.0</td>\n",
       "    </tr>\n",
       "    <tr>\n",
       "      <th>14</th>\n",
       "      <td>248</td>\n",
       "      <td>5.0</td>\n",
       "    </tr>\n",
       "    <tr>\n",
       "      <th>15</th>\n",
       "      <td>248</td>\n",
       "      <td>5.0</td>\n",
       "    </tr>\n",
       "    <tr>\n",
       "      <th>16</th>\n",
       "      <td>248</td>\n",
       "      <td>5.0</td>\n",
       "    </tr>\n",
       "    <tr>\n",
       "      <th>17</th>\n",
       "      <td>248</td>\n",
       "      <td>5.0</td>\n",
       "    </tr>\n",
       "    <tr>\n",
       "      <th>18</th>\n",
       "      <td>248</td>\n",
       "      <td>5.0</td>\n",
       "    </tr>\n",
       "    <tr>\n",
       "      <th>19</th>\n",
       "      <td>248</td>\n",
       "      <td>5.0</td>\n",
       "    </tr>\n",
       "  </tbody>\n",
       "</table>\n",
       "</div>"
      ],
      "text/plain": [
       "   userId  est_rating\n",
       "0   45844         5.0\n",
       "1   45844         5.0\n",
       "2   45844         5.0\n",
       "3   45844         5.0\n",
       "4   45844         5.0\n",
       "5   45844         5.0\n",
       "6   45844         5.0\n",
       "7   45844         5.0\n",
       "8   45844         5.0\n",
       "9   45844         5.0\n",
       "10    248         5.0\n",
       "11    248         5.0\n",
       "12    248         5.0\n",
       "13    248         5.0\n",
       "14    248         5.0\n",
       "15    248         5.0\n",
       "16    248         5.0\n",
       "17    248         5.0\n",
       "18    248         5.0\n",
       "19    248         5.0"
      ]
     },
     "execution_count": 94,
     "metadata": {},
     "output_type": "execute_result"
    }
   ],
   "source": [
    "top_10_recos"
   ]
  },
  {
   "cell_type": "markdown",
   "id": "21246c1a",
   "metadata": {},
   "source": [
    "# SVD Based Recommendation"
   ]
  },
  {
   "cell_type": "code",
   "execution_count": 35,
   "id": "d40956fc",
   "metadata": {},
   "outputs": [
    {
     "data": {
      "text/plain": [
       "567"
      ]
     },
     "execution_count": 35,
     "metadata": {},
     "output_type": "execute_result"
    }
   ],
   "source": [
    "# Lets exclude movies with very few ratings, say less than 5\n",
    "movie_count = ratings[\"title\"].value_counts(ascending=False)\n",
    "pop_movie = movie_count.loc[movie_count.values > 200].index\n",
    "len(pop_movie)"
   ]
  },
  {
   "cell_type": "code",
   "execution_count": 36,
   "id": "5c8b0af2",
   "metadata": {},
   "outputs": [
    {
     "data": {
      "text/plain": [
       "(350710, 7)"
      ]
     },
     "execution_count": 36,
     "metadata": {},
     "output_type": "execute_result"
    }
   ],
   "source": [
    "ratings = ratings.loc[ratings.title.isin(pop_movie)]\n",
    "ratings.shape"
   ]
  },
  {
   "cell_type": "code",
   "execution_count": 37,
   "id": "db791934",
   "metadata": {},
   "outputs": [],
   "source": [
    "from surprise import Dataset,Reader\n",
    "reader = Reader(rating_scale=(1, 5))\n",
    "data = Dataset.load_from_df(ratings[['userId', 'title', 'rating']], reader)"
   ]
  },
  {
   "cell_type": "code",
   "execution_count": 38,
   "id": "aa2f2edc",
   "metadata": {},
   "outputs": [],
   "source": [
    "# Split data to train and test\n",
    "from surprise.model_selection import train_test_split\n",
    "trainset, testset = train_test_split(data, test_size=.84,random_state=123)"
   ]
  },
  {
   "cell_type": "code",
   "execution_count": 39,
   "id": "c188cb22",
   "metadata": {},
   "outputs": [],
   "source": [
    "#SVD Collaborative filtering\n",
    "from surprise import SVD\n",
    "from surprise import accuracy"
   ]
  },
  {
   "cell_type": "code",
   "execution_count": 40,
   "id": "902d5bed",
   "metadata": {},
   "outputs": [
    {
     "name": "stdout",
     "output_type": "stream",
     "text": [
      "Wall time: 1.42 s\n"
     ]
    },
    {
     "data": {
      "text/plain": [
       "<surprise.prediction_algorithms.matrix_factorization.SVD at 0x1ca3b67f370>"
      ]
     },
     "execution_count": 40,
     "metadata": {},
     "output_type": "execute_result"
    }
   ],
   "source": [
    "svd_model = SVD(n_factors=50,biased=False)\n",
    "svd_model.fit(trainset)"
   ]
  },
  {
   "cell_type": "code",
   "execution_count": 41,
   "id": "5206e14e",
   "metadata": {},
   "outputs": [],
   "source": [
    "test_pred = svd_model.test(testset)"
   ]
  },
  {
   "cell_type": "code",
   "execution_count": 42,
   "id": "c3169cd8",
   "metadata": {},
   "outputs": [
    {
     "name": "stdout",
     "output_type": "stream",
     "text": [
      "RMSE: 0.8551\n"
     ]
    },
    {
     "data": {
      "text/plain": [
       "0.855069335414922"
      ]
     },
     "execution_count": 42,
     "metadata": {},
     "output_type": "execute_result"
    }
   ],
   "source": [
    "# compute RMSE\n",
    "accuracy.rmse(test_pred)"
   ]
  },
  {
   "cell_type": "code",
   "execution_count": 65,
   "id": "b9d89ef5",
   "metadata": {},
   "outputs": [
    {
     "data": {
      "text/plain": [
       "(2827, 50)"
      ]
     },
     "execution_count": 65,
     "metadata": {},
     "output_type": "execute_result"
    },
    {
     "data": {
      "text/plain": [
       "(567, 50)"
      ]
     },
     "execution_count": 65,
     "metadata": {},
     "output_type": "execute_result"
    }
   ],
   "source": [
    "user_factors = svd_model.pu\n",
    "user_factors.shape\n",
    "item_factors = svd_model.qi\n",
    "item_factors.shape"
   ]
  },
  {
   "cell_type": "code",
   "execution_count": 66,
   "id": "bf2d387c",
   "metadata": {},
   "outputs": [],
   "source": [
    "pred = np.dot(user_factors,np.transpose(item_factors))"
   ]
  },
  {
   "cell_type": "code",
   "execution_count": 67,
   "id": "3846a5c2",
   "metadata": {},
   "outputs": [
    {
     "data": {
      "text/plain": [
       "array([3.15071533, 2.58299381, 3.89721043, 4.04191251, 3.82454252])"
      ]
     },
     "execution_count": 67,
     "metadata": {},
     "output_type": "execute_result"
    }
   ],
   "source": [
    "pred[1523,0:5]"
   ]
  },
  {
   "cell_type": "code",
   "execution_count": 68,
   "id": "4b30e477",
   "metadata": {},
   "outputs": [
    {
     "data": {
      "text/plain": [
       "Prediction(uid='54453', iid='Life of Pi (2012)', r_ui=None, est=3.5731381319836757, details={'was_impossible': True, 'reason': 'User and item are unknown.'})"
      ]
     },
     "execution_count": 68,
     "metadata": {},
     "output_type": "execute_result"
    }
   ],
   "source": [
    "svd_model.predict(uid = trainset.to_raw_uid(1523), iid = trainset.to_raw_iid(0))"
   ]
  },
  {
   "cell_type": "markdown",
   "id": "ef00cadf",
   "metadata": {},
   "source": [
    "# Parameter tuning of SVD Recommendation system"
   ]
  },
  {
   "cell_type": "code",
   "execution_count": 69,
   "id": "7ce614e9",
   "metadata": {},
   "outputs": [],
   "source": [
    "from surprise.model_selection import GridSearchCV\n",
    "param_grid = {'n_factors' : [5,10,15], \"reg_all\":[0.01,0.02]}\n",
    "gs = GridSearchCV(SVD, param_grid, measures=['rmse'], cv=3,refit = True)"
   ]
  },
  {
   "cell_type": "code",
   "execution_count": 70,
   "id": "99498dd0",
   "metadata": {},
   "outputs": [],
   "source": [
    "gs.fit(data)"
   ]
  },
  {
   "cell_type": "code",
   "execution_count": 71,
   "id": "8e325631",
   "metadata": {},
   "outputs": [
    {
     "data": {
      "text/plain": [
       "[{'n_factors': 5, 'reg_all': 0.01},\n",
       " {'n_factors': 5, 'reg_all': 0.02},\n",
       " {'n_factors': 10, 'reg_all': 0.01},\n",
       " {'n_factors': 10, 'reg_all': 0.02},\n",
       " {'n_factors': 15, 'reg_all': 0.01},\n",
       " {'n_factors': 15, 'reg_all': 0.02}]"
      ]
     },
     "execution_count": 71,
     "metadata": {},
     "output_type": "execute_result"
    }
   ],
   "source": [
    "# get all parameter combinations\n",
    "gs.param_combinations"
   ]
  },
  {
   "cell_type": "code",
   "execution_count": 72,
   "id": "388879c4",
   "metadata": {},
   "outputs": [
    {
     "data": {
      "text/plain": [
       "{'rmse': {'n_factors': 15, 'reg_all': 0.02}}"
      ]
     },
     "execution_count": 72,
     "metadata": {},
     "output_type": "execute_result"
    }
   ],
   "source": [
    "# get best parameters\n",
    "gs.best_params"
   ]
  },
  {
   "cell_type": "code",
   "execution_count": 83,
   "id": "2e997372",
   "metadata": {},
   "outputs": [],
   "source": [
    "test_pred_best = gs.test(testset)"
   ]
  },
  {
   "cell_type": "code",
   "execution_count": 84,
   "id": "1a0947dd",
   "metadata": {},
   "outputs": [
    {
     "name": "stdout",
     "output_type": "stream",
     "text": [
      "RMSE: 0.7426\n"
     ]
    },
    {
     "data": {
      "text/plain": [
       "0.7426129216395535"
      ]
     },
     "execution_count": 84,
     "metadata": {},
     "output_type": "execute_result"
    }
   ],
   "source": [
    "# compute RMSE\n",
    "accuracy.rmse(test_pred_best)"
   ]
  }
 ],
 "metadata": {
  "kernelspec": {
   "display_name": "Python 3 (ipykernel)",
   "language": "python",
   "name": "python3"
  },
  "language_info": {
   "codemirror_mode": {
    "name": "ipython",
    "version": 3
   },
   "file_extension": ".py",
   "mimetype": "text/x-python",
   "name": "python",
   "nbconvert_exporter": "python",
   "pygments_lexer": "ipython3",
   "version": "3.9.7"
  }
 },
 "nbformat": 4,
 "nbformat_minor": 5
}
